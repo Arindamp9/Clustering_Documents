{
 "cells": [
  {
   "cell_type": "markdown",
   "metadata": {},
   "source": [
    "# Assignment 2\n",
    "#### Arindam Patra (MDS202008) ,   Aditi Kundu (MDS202002)\n"
   ]
  },
  {
   "cell_type": "markdown",
   "metadata": {},
   "source": [
    "# Here we have used the following libraries.\n",
    "1. Pandas\n",
    "2. Numpy\n",
    "3. Matplotlib.pyplot\n",
    "4. Seaborn\n",
    "5. %matplotlib.inline.\n",
    "\n",
    "\n",
    "Then we have created a dictionary \"D\", where keys are docID and values are list of wordID present in that document.\n",
    "\n",
    "Now we form another dictionary \"dic\", which contains docID as keys, and it takes a values as a list of length = number of elements in vocab + 1, (where the zero-th place will be a garbage value and we will not consider it).\n",
    "If a docID contains a certain wordID, then the wordID-th place in the list will be 1, the the other values will be zero.\n",
    "Loosely, we are making a list, where if a Document contains a certain word then the index of the word in the list will contain 1 as value, and if the word is not present in the document then the corresponding index will contain 0 in the list.\n",
    "\n",
    "Then we are defining Jaccard distance function in \"jaccard_distance\", which will take two list as input and will return their jaccard distance.\n",
    "\n",
    "Then we compute a nested dictionary, namely \"jaccard_matrix\". Where each document will form a key, and corresponding to each key we have another dictionary as value. In this dictionary the keys will be each document and its value will be the corresponding jaccard distance. Here we are storing the jaccard distance between each document pairs. Basically we are forming the jaccard distance matrix in the form of dictionary to save space.\n",
    "\n",
    "Now we will define \"cluster_func1\", which will take the centroids in the form of list and then form the corresponding clusters. It will give a dictionary as an output, where the keys will be the centroids and the list of elements of the corresponding cluster as the value.\n",
    "\n",
    "Now we will initialize centroids. Usually in k-means we initialize centroids randomly, but here we will follow a heuristic way. At first we will take the sum of the values of the jaccard matrix corresponding to each docID. Then we will take the highest k- values. And then choose the corresponding keys as initial centroids. Now we are following this way so that the centroids are fairly far from each other. \n",
    "\n",
    "Then we will form initial clusters using the previous cluster function \"cluster_func1\" on this centroids.\n",
    "\n",
    "Now we will update our centroids and then form the clusters corresponding to them iteratively. \n",
    "\n",
    "In each loop, from every cluster, we are updating the centroid by setting up a threshold. At first, for cluster we are taking the element of the cluster and corresponding to those elements we are taking the previous \"dic\" dictionary and we are adding up the values for those elements. Then we are dividing each element in that list with the number of elements in that specific cluster. \n",
    "Now the values of this list will lie between 0 to 1. Then we will set a threshold and accordingly replace the values less than the threshold by 0 and greater than the threshold by 1. This can be said as a dummy centroid. Then we choose the nearby(by jaccard distance) document of this dummy centroid and take it as the new centroid. continuing this process, we will get our all the k centroids, and then again we calculate the new clusters and again evaluate the new centroids iteratively. \n",
    "\n",
    "Now we will calculate the inertia of the clusters corresponding to each k and finally plot it on a elbow graph and from that decide upon the most optimized k.\n",
    "\n",
    "**Output file link:** https://drive.google.com/drive/folders/1G2BtwC2RhaXqItABfzX1VPjsL4UDuSmr?usp=sharing"
   ]
  },
  {
   "cell_type": "code",
   "execution_count": 18,
   "metadata": {},
   "outputs": [],
   "source": [
    "### Importing necessary libraries\n",
    "import pandas as pd\n",
    "import numpy as np\n",
    "import matplotlib.pyplot as plt\n",
    "import seaborn as sns\n",
    "%matplotlib inline"
   ]
  },
  {
   "cell_type": "code",
   "execution_count": 2,
   "metadata": {},
   "outputs": [],
   "source": [
    "df=pd.read_csv('vocab.nips.txt',names=['vocab'])   ##importing vocab data\n",
    "df1=pd.read_csv('docword.nips.txt',sep=' ',names=['docID' ,'wordID','count'],skiprows=[0,1,2]) ##importing docword data"
   ]
  },
  {
   "cell_type": "code",
   "execution_count": 3,
   "metadata": {},
   "outputs": [
    {
     "data": {
      "text/plain": [
       "(746316, 3)"
      ]
     },
     "execution_count": 3,
     "metadata": {},
     "output_type": "execute_result"
    }
   ],
   "source": [
    "df1.shape"
   ]
  },
  {
   "cell_type": "code",
   "execution_count": 4,
   "metadata": {},
   "outputs": [
    {
     "data": {
      "text/html": [
       "<div>\n",
       "<style scoped>\n",
       "    .dataframe tbody tr th:only-of-type {\n",
       "        vertical-align: middle;\n",
       "    }\n",
       "\n",
       "    .dataframe tbody tr th {\n",
       "        vertical-align: top;\n",
       "    }\n",
       "\n",
       "    .dataframe thead th {\n",
       "        text-align: right;\n",
       "    }\n",
       "</style>\n",
       "<table border=\"1\" class=\"dataframe\">\n",
       "  <thead>\n",
       "    <tr style=\"text-align: right;\">\n",
       "      <th></th>\n",
       "      <th>vocab</th>\n",
       "    </tr>\n",
       "  </thead>\n",
       "  <tbody>\n",
       "    <tr>\n",
       "      <th>0</th>\n",
       "      <td>a2i</td>\n",
       "    </tr>\n",
       "    <tr>\n",
       "      <th>1</th>\n",
       "      <td>aaa</td>\n",
       "    </tr>\n",
       "    <tr>\n",
       "      <th>2</th>\n",
       "      <td>aaai</td>\n",
       "    </tr>\n",
       "    <tr>\n",
       "      <th>3</th>\n",
       "      <td>aapo</td>\n",
       "    </tr>\n",
       "    <tr>\n",
       "      <th>4</th>\n",
       "      <td>aat</td>\n",
       "    </tr>\n",
       "  </tbody>\n",
       "</table>\n",
       "</div>"
      ],
      "text/plain": [
       "  vocab\n",
       "0   a2i\n",
       "1   aaa\n",
       "2  aaai\n",
       "3  aapo\n",
       "4   aat"
      ]
     },
     "execution_count": 4,
     "metadata": {},
     "output_type": "execute_result"
    }
   ],
   "source": [
    "df.head()"
   ]
  },
  {
   "cell_type": "code",
   "execution_count": 5,
   "metadata": {},
   "outputs": [
    {
     "data": {
      "text/plain": [
       "(12419, 1)"
      ]
     },
     "execution_count": 5,
     "metadata": {},
     "output_type": "execute_result"
    }
   ],
   "source": [
    "df.shape"
   ]
  },
  {
   "cell_type": "code",
   "execution_count": 6,
   "metadata": {},
   "outputs": [
    {
     "data": {
      "text/html": [
       "<div>\n",
       "<style scoped>\n",
       "    .dataframe tbody tr th:only-of-type {\n",
       "        vertical-align: middle;\n",
       "    }\n",
       "\n",
       "    .dataframe tbody tr th {\n",
       "        vertical-align: top;\n",
       "    }\n",
       "\n",
       "    .dataframe thead th {\n",
       "        text-align: right;\n",
       "    }\n",
       "</style>\n",
       "<table border=\"1\" class=\"dataframe\">\n",
       "  <thead>\n",
       "    <tr style=\"text-align: right;\">\n",
       "      <th></th>\n",
       "      <th>docID</th>\n",
       "      <th>wordID</th>\n",
       "      <th>count</th>\n",
       "    </tr>\n",
       "  </thead>\n",
       "  <tbody>\n",
       "    <tr>\n",
       "      <th>0</th>\n",
       "      <td>1</td>\n",
       "      <td>2</td>\n",
       "      <td>1</td>\n",
       "    </tr>\n",
       "    <tr>\n",
       "      <th>1</th>\n",
       "      <td>1</td>\n",
       "      <td>39</td>\n",
       "      <td>1</td>\n",
       "    </tr>\n",
       "    <tr>\n",
       "      <th>2</th>\n",
       "      <td>1</td>\n",
       "      <td>42</td>\n",
       "      <td>3</td>\n",
       "    </tr>\n",
       "    <tr>\n",
       "      <th>3</th>\n",
       "      <td>1</td>\n",
       "      <td>77</td>\n",
       "      <td>1</td>\n",
       "    </tr>\n",
       "    <tr>\n",
       "      <th>4</th>\n",
       "      <td>1</td>\n",
       "      <td>95</td>\n",
       "      <td>1</td>\n",
       "    </tr>\n",
       "  </tbody>\n",
       "</table>\n",
       "</div>"
      ],
      "text/plain": [
       "   docID  wordID  count\n",
       "0      1       2      1\n",
       "1      1      39      1\n",
       "2      1      42      3\n",
       "3      1      77      1\n",
       "4      1      95      1"
      ]
     },
     "execution_count": 6,
     "metadata": {},
     "output_type": "execute_result"
    }
   ],
   "source": [
    "df1.head()"
   ]
  },
  {
   "cell_type": "code",
   "execution_count": 20,
   "metadata": {},
   "outputs": [
    {
     "name": "stdout",
     "output_type": "stream",
     "text": [
      "Wall time: 2.35 s\n"
     ]
    }
   ],
   "source": [
    "%%time\n",
    "### Keys are docID and values are list of wordID present in that doc\n",
    "D={}\n",
    "for i in range(1,max(df1['docID'])+1):\n",
    "    D[i]=list(df1[df1['docID']==i]['wordID'])"
   ]
  },
  {
   "cell_type": "code",
   "execution_count": 8,
   "metadata": {},
   "outputs": [
    {
     "name": "stdout",
     "output_type": "stream",
     "text": [
      "Wall time: 468 ms\n"
     ]
    }
   ],
   "source": [
    "%%time\n",
    "#### Here Keys are docID and values are 0 or 1. If a wordID is there then in that position we will put 1.\n",
    "dic={}\n",
    "for i in range(1,max(df1['docID'])+1):\n",
    "    dic[i]=[0]*(len(df)+1)          \n",
    "    ##generating a list of zeros where total number of element is equal to distinct word in the vocabulary\n",
    "    \n",
    "    \n",
    "for i in D.keys():\n",
    "    le=len(D[i])\n",
    "    ## 'le' is the number of word present in an document\n",
    "    for j in range(le):\n",
    "        word=D[i][j]\n",
    "        dic[i][word]=1"
   ]
  },
  {
   "cell_type": "code",
   "execution_count": 9,
   "metadata": {},
   "outputs": [],
   "source": [
    "### Calculating the jaccard distance between two docs.\n",
    "def jaccard_distance(doc1, doc2):\n",
    "    doc1=set(doc1)\n",
    "    doc2=set(doc2)\n",
    "    intersection_len = len(doc1.intersection(doc2))\n",
    "    union_len = len(doc1) + len(doc2) - intersection_len\n",
    "    return 1-(intersection_len / union_len)"
   ]
  },
  {
   "cell_type": "code",
   "execution_count": 13,
   "metadata": {},
   "outputs": [
    {
     "name": "stdout",
     "output_type": "stream",
     "text": [
      "Wall time: 4min 8s\n"
     ]
    }
   ],
   "source": [
    "%%time\n",
    "### Creating a jaccard matrix as a dictionary.\n",
    "jaccard_matrix={}\n",
    "for i in range(1,max(df1['docID'])+1):\n",
    "    jaccard_matrix[i]={}\n",
    "    for j in range(1,max(df1['docID'])+1):\n",
    "        if j not in jaccard_matrix:\n",
    "            jaccard_matrix[j]={}\n",
    "        Distance = jaccard_distance(D[i],D[j])\n",
    "        jaccard_matrix[i][j]=Distance\n",
    "        jaccard_matrix[j][i]=Distance"
   ]
  },
  {
   "cell_type": "code",
   "execution_count": 14,
   "metadata": {},
   "outputs": [],
   "source": [
    "### Defining the cluster function\n",
    "def cluster_func1(centroid):\n",
    "    cluster={}\n",
    "    for cen in centroid:\n",
    "        cluster[cen]=[]\n",
    "    for i in jaccard_matrix:\n",
    "        min_similarity=np.inf\n",
    "        c=-1\n",
    "        for j in centroid:\n",
    "            if jaccard_matrix[j][i]<min_similarity:\n",
    "                min_similarity=jaccard_matrix[j][i]\n",
    "                c=j\n",
    "        cluster[c].append(i)\n",
    "    return(cluster)"
   ]
  },
  {
   "cell_type": "code",
   "execution_count": 21,
   "metadata": {},
   "outputs": [
    {
     "name": "stdout",
     "output_type": "stream",
     "text": [
      "[1104]\n",
      "[1]\n",
      "[1]\n",
      "[1104, 1179]\n",
      "[2, 1]\n",
      "[2, 1]\n",
      "[1104, 1179, 1217]\n",
      "[2, 1, 3]\n",
      "[2, 1, 3]\n",
      "[1104, 1179, 1199, 1217]\n",
      "[2, 1, 6, 3]\n",
      "[2, 1, 6, 3]\n",
      "[1104, 1120, 1179, 1199, 1217]\n",
      "[2, 7, 1, 6, 3]\n",
      "[2, 4, 1, 6, 3]\n",
      "[2, 4, 1, 6, 3]\n",
      "[1089, 1104, 1120, 1179, 1199, 1217]\n",
      "[1, 40, 7, 4, 6, 33]\n",
      "[1, 2, 7, 4, 6, 3]\n",
      "[1, 2, 7, 4, 6, 3]\n",
      "[1089, 1104, 1120, 1179, 1188, 1199, 1217]\n",
      "[1, 40, 7, 9, 4, 6, 33]\n",
      "[1, 2, 7, 5, 4, 6, 3]\n",
      "[1, 2, 7, 5, 4, 6, 3]\n",
      "[1089, 1104, 1120, 1139, 1179, 1188, 1199, 1217]\n",
      "[1, 40, 7, 4, 30, 36, 115, 33]\n",
      "[1, 2, 7, 4, 15, 25, 115, 3]\n",
      "[1, 2, 7, 4, 15, 25, 115, 3]\n",
      "[1089, 1104, 1120, 1139, 1179, 1183, 1188, 1199, 1217]\n",
      "[1, 40, 7, 4, 73, 15, 36, 186, 33]\n",
      "[1, 2, 7, 4, 41, 3, 25, 104, 27]\n",
      "[1, 2, 7, 4, 41, 3, 25, 50, 6]\n",
      "[1, 2, 7, 4, 41, 3, 25, 42, 6]\n",
      "[1, 2, 7, 4, 41, 3, 25, 42, 6]\n",
      "[954, 1089, 1104, 1120, 1139, 1179, 1183, 1188, 1199, 1217]\n",
      "[2, 1, 104, 7, 6, 73, 15, 36, 189, 83]\n",
      "[2, 1, 42, 4, 6, 41, 3, 25, 51, 83]\n",
      "[2, 1, 42, 4, 6, 41, 3, 25, 51, 83]\n",
      "[819, 954, 1089, 1104, 1120, 1139, 1179, 1183, 1188, 1199, 1217]\n",
      "[2, 3, 1, 232, 7, 20, 172, 25, 36, 189, 83]\n",
      "[2, 3, 1, 122, 4, 11, 34, 25, 36, 50, 83]\n",
      "[2, 3, 1, 105, 4, 11, 32, 25, 36, 41, 83]\n",
      "[2, 3, 1, 46, 4, 11, 32, 25, 36, 41, 83]\n",
      "[2, 3, 1, 46, 4, 11, 32, 25, 36, 41, 83]\n",
      "[819, 954, 1089, 1104, 1120, 1139, 1179, 1183, 1188, 1199, 1217, 1500]\n",
      "[2, 3, 21, 232, 22, 20, 172, 25, 36, 1199, 83, 1]\n",
      "[2, 3, 6, 122, 4, 11, 34, 25, 36, 1089, 83, 1]\n",
      "[2, 3, 6, 47, 4, 11, 32, 25, 36, 1089, 83, 1]\n",
      "[2, 3, 6, 43, 4, 11, 32, 25, 36, 1089, 83, 1]\n",
      "[2, 3, 6, 41, 4, 11, 32, 25, 36, 1089, 83, 1]\n",
      "[2, 3, 6, 41, 4, 11, 32, 25, 36, 1089, 83, 1]\n",
      "[819, 954, 1089, 1104, 1120, 1139, 1179, 1183, 1188, 1199, 1217, 1227, 1500]\n",
      "[8, 3, 21, 232, 22, 20, 225, 25, 36, 1199, 83, 2, 1]\n",
      "[8, 3, 6, 122, 4, 11, 41, 25, 36, 1089, 83, 2, 1]\n",
      "[8, 3, 6, 47, 4, 11, 41, 25, 36, 1089, 83, 2, 1]\n",
      "[8, 3, 6, 47, 4, 11, 41, 25, 36, 1089, 83, 2, 1]\n",
      "[819, 954, 1088, 1089, 1104, 1120, 1139, 1179, 1183, 1188, 1199, 1217, 1227, 1500]\n",
      "[8, 3, 1, 21, 232, 22, 20, 225, 25, 36, 1199, 83, 12, 4]\n",
      "[8, 3, 1, 6, 122, 2, 11, 41, 25, 24, 1089, 83, 12, 4]\n",
      "[8, 3, 1, 6, 47, 2, 11, 41, 25, 23, 1089, 83, 12, 4]\n",
      "[8, 3, 1, 6, 47, 2, 11, 41, 25, 5, 1089, 83, 12, 4]\n",
      "[8, 3, 1, 6, 47, 2, 11, 41, 25, 5, 1089, 83, 12, 4]\n",
      "Wall time: 6min 30s\n"
     ]
    }
   ],
   "source": [
    "%%time\n",
    "inertia1=[]\n",
    "for Num_of_clusters in range(1,15):\n",
    "    ### TO initialize the centroids\n",
    "    sum_of_jaccard_for_wordID={}\n",
    "    for i in jaccard_matrix:\n",
    "        sum_of_jaccard_for_wordID[i]=sum(jaccard_matrix[i].values())\n",
    "    ### Taking highest 10 sums\n",
    "    max_10_sum=sorted(list(sum_of_jaccard_for_wordID.values()),reverse=True)[:Num_of_clusters]\n",
    "    initial_centroid=[]\n",
    "    for j in jaccard_matrix:\n",
    "        if sum_of_jaccard_for_wordID[j] in max_10_sum:\n",
    "            initial_centroid.append(j)\n",
    "    print(initial_centroid)\n",
    "    #print(sum_of_jaccard_for_wordID) \n",
    "    \n",
    "    cluster=cluster_func1(initial_centroid)\n",
    "    prev_centroids=initial_centroid\n",
    "    new_centroids=[]\n",
    "    for itr in range(10):\n",
    "        if prev_centroids==new_centroids:  ## If the centroids are not changing then we won't iterate more.\n",
    "            break\n",
    "        prev_centroids=new_centroids\n",
    "        prev_cluster=list(cluster.keys())\n",
    "        new_centroids=[]\n",
    "        for i in prev_cluster:\n",
    "            cluster_element=cluster[i]\n",
    "            total=[0]*(len(df)+1)\n",
    "            for j in cluster_element:\n",
    "                total += dic[j]       ### Adding up all list of a cluster\n",
    "            avg = [x / len(cluster_element) for x in total]  ## Now we will get some fractional value\n",
    "            for k in range(len(avg)):   ### Converting it only in 0 or 1\n",
    "                if avg[k]>=0.05:\n",
    "                    avg[k]=1\n",
    "                else:\n",
    "                    avg[k]=0\n",
    "            elements=[]           ### Storing the wordID for that centroid of the cluster\n",
    "            for l in range(len(avg)):\n",
    "                if avg[l]==1:\n",
    "                    elements.append(l)\n",
    "    ### Now we will check which docID has best similarity with the calculated centroid.\n",
    "    ### Best similarity docID wil be our new centroid\n",
    "            min_index=np.inf\n",
    "            center=-1\n",
    "            for m in cluster_element:\n",
    "                jac=jaccard_distance(D[m],elements)\n",
    "                if jac<min_index:\n",
    "                    min_index=jac\n",
    "                    center=m\n",
    "            new_centroids.append(center)\n",
    "        print(new_centroids)\n",
    "        cluster=cluster_func1(new_centroids)\n",
    "        \n",
    "    s=0\n",
    "    for i in new_centroids:\n",
    "        for j in cluster[i]:\n",
    "            s=s+ jaccard_matrix[i][j]**2\n",
    "    s=s/len(new_centroids) \n",
    "    inertia1.append(s)"
   ]
  },
  {
   "cell_type": "code",
   "execution_count": 22,
   "metadata": {},
   "outputs": [
    {
     "data": {
      "text/plain": [
       "[1101.5447306972574,\n",
       " 540.9096919061263,\n",
       " 359.5421780444877,\n",
       " 269.46512683766696,\n",
       " 213.70078160271925,\n",
       " 177.4283491667909,\n",
       " 150.46268204025728,\n",
       " 132.71622422866463,\n",
       " 117.58881898690801,\n",
       " 106.02286524507615,\n",
       " 96.19743543631289,\n",
       " 87.88236404378871,\n",
       " 81.08857750226714,\n",
       " 74.46310988270818]"
      ]
     },
     "execution_count": 22,
     "metadata": {},
     "output_type": "execute_result"
    }
   ],
   "source": [
    "inertia1"
   ]
  },
  {
   "cell_type": "code",
   "execution_count": 24,
   "metadata": {},
   "outputs": [
    {
     "data": {
      "image/png": "[encoded data removed]",
      "text/plain": [
       "<Figure size 432x288 with 1 Axes>"
      ]
     },
     "metadata": {
      "needs_background": "light"
     },
     "output_type": "display_data"
    }
   ],
   "source": [
    "plt.plot(range(1,15),inertia1,'bo-');"
   ]
  },
  {
   "cell_type": "markdown",
   "metadata": {},
   "source": [
    "**From the Elbow plot we can conclude that the optimized k is 3. So we will take 3 clusters here.**"
   ]
  },
  {
   "cell_type": "code",
   "execution_count": 25,
   "metadata": {},
   "outputs": [
    {
     "name": "stdout",
     "output_type": "stream",
     "text": [
      "[2, 1, 3]\n",
      "{2: [2, 5, 8, 9, 16, 20, 22, 24, 25, 26, 27, 28, 31, 32, 36, 37, 39, 40, 42, 43, 47, 48, 49, 50, 51, 53, 54, 59, 60, 62, 63, 68, 69, 71, 72, 73, 75, 79, 81, 83, 84, 85, 86, 90, 91, 93, 94, 95, 96, 97, 99, 100, 101, 102, 105, 111, 112, 113, 114, 115, 119, 120, 121, 122, 124, 128, 135, 139, 140, 141, 143, 145, 149, 151, 155, 159, 161, 165, 166, 169, 170, 171, 174, 176, 178, 179, 180, 181, 182, 183, 184, 187, 188, 189, 190, 191, 192, 194, 195, 198, 200, 208, 210, 212, 213, 214, 215, 216, 217, 218, 219, 221, 222, 223, 224, 225, 227, 228, 233, 238, 246, 247, 248, 257, 259, 261, 262, 263, 264, 267, 269, 271, 276, 277, 278, 279, 281, 282, 283, 288, 292, 295, 298, 299, 301, 303, 305, 308, 309, 311, 312, 313, 314, 315, 318, 319, 320, 324, 333, 337, 339, 343, 344, 345, 346, 347, 348, 350, 351, 352, 353, 355, 356, 357, 358, 359, 360, 362, 377, 378, 382, 384, 386, 387, 388, 390, 391, 392, 393, 395, 396, 399, 402, 404, 407, 411, 415, 418, 419, 420, 421, 422, 423, 425, 426, 430, 431, 434, 436, 438, 439, 440, 441, 443, 444, 453, 455, 457, 460, 462, 465, 467, 468, 470, 473, 475, 478, 479, 480, 481, 482, 483, 484, 486, 487, 488, 489, 490, 494, 495, 498, 499, 500, 504, 506, 516, 517, 525, 526, 527, 531, 537, 538, 539, 543, 545, 547, 548, 549, 550, 552, 553, 554, 555, 556, 557, 558, 564, 565, 569, 570, 571, 575, 576, 577, 582, 590, 591, 593, 597, 598, 601, 608, 609, 613, 615, 616, 617, 618, 619, 620, 621, 624, 625, 626, 627, 631, 639, 640, 643, 647, 649, 650, 652, 655, 657, 658, 662, 663, 665, 666, 667, 668, 669, 670, 671, 672, 673, 674, 677, 678, 681, 683, 686, 691, 697, 698, 705, 707, 708, 709, 710, 712, 716, 717, 720, 723, 724, 725, 727, 729, 730, 731, 732, 733, 744, 748, 749, 751, 755, 756, 758, 761, 763, 764, 773, 775, 776, 778, 785, 786, 787, 789, 790, 792, 794, 795, 796, 799, 800, 801, 802, 803, 805, 806, 807, 809, 810, 816, 817, 819, 822, 823, 828, 829, 831, 834, 835, 843, 844, 845, 846, 848, 853, 857, 859, 868, 869, 871, 873, 874, 875, 877, 880, 882, 883, 884, 886, 888, 892, 895, 896, 902, 903, 904, 907, 908, 911, 912, 913, 914, 916, 917, 918, 919, 921, 923, 924, 927, 928, 930, 931, 932, 933, 934, 935, 938, 939, 945, 948, 950, 951, 957, 958, 959, 960, 961, 962, 965, 966, 967, 968, 970, 971, 973, 974, 975, 980, 983, 984, 985, 988, 992, 994, 998, 1001, 1002, 1005, 1006, 1008, 1009, 1012, 1013, 1016, 1017, 1021, 1023, 1024, 1026, 1027, 1028, 1029, 1030, 1034, 1036, 1037, 1038, 1039, 1040, 1041, 1042, 1043, 1044, 1045, 1048, 1049, 1052, 1054, 1055, 1056, 1057, 1058, 1059, 1060, 1061, 1062, 1064, 1065, 1066, 1070, 1073, 1075, 1080, 1081, 1083, 1087, 1088, 1092, 1093, 1101, 1104, 1107, 1112, 1113, 1115, 1116, 1117, 1119, 1124, 1125, 1127, 1133, 1138, 1140, 1141, 1148, 1150, 1152, 1159, 1160, 1161, 1166, 1167, 1170, 1171, 1172, 1176, 1178, 1181, 1182, 1186, 1188, 1191, 1192, 1195, 1196, 1197, 1198, 1201, 1202, 1204, 1208, 1209, 1210, 1215, 1216, 1225, 1227, 1229, 1233, 1235, 1237, 1238, 1240, 1242, 1243, 1244, 1245, 1246, 1247, 1249, 1250, 1251, 1257, 1259, 1263, 1264, 1266, 1270, 1272, 1274, 1276, 1277, 1280, 1281, 1283, 1285, 1287, 1289, 1290, 1293, 1294, 1295, 1297, 1301, 1302, 1303, 1304, 1305, 1306, 1307, 1308, 1309, 1311, 1312, 1313, 1314, 1315, 1316, 1318, 1319, 1320, 1321, 1323, 1325, 1326, 1327, 1328, 1329, 1330, 1331, 1332, 1333, 1337, 1338, 1347, 1348, 1364, 1365, 1372, 1376, 1377, 1378, 1379, 1380, 1382, 1383, 1384, 1386, 1387, 1388, 1389, 1390, 1391, 1393, 1395, 1396, 1399, 1400, 1405, 1406, 1408, 1412, 1413, 1415, 1417, 1418, 1419, 1420, 1422, 1424, 1425, 1428, 1430, 1431, 1432, 1433, 1435, 1436, 1437, 1438, 1442, 1443, 1445, 1448, 1449, 1450, 1452, 1453, 1456, 1457, 1458, 1462, 1463, 1465, 1467, 1468, 1469, 1470, 1473, 1474, 1476, 1482, 1483, 1485, 1491, 1492, 1493, 1498, 1500], 1: [1, 4, 6, 7, 10, 11, 13, 19, 21, 23, 29, 30, 35, 41, 46, 52, 55, 57, 58, 65, 67, 70, 74, 77, 78, 80, 89, 98, 103, 106, 108, 109, 110, 116, 117, 118, 126, 127, 129, 130, 131, 132, 133, 134, 136, 138, 142, 144, 146, 148, 150, 152, 153, 154, 156, 157, 160, 162, 163, 164, 167, 172, 177, 185, 186, 193, 196, 199, 201, 202, 203, 204, 205, 206, 209, 211, 220, 226, 229, 231, 237, 240, 241, 243, 244, 245, 249, 250, 251, 252, 253, 254, 255, 256, 258, 260, 265, 266, 268, 270, 272, 273, 274, 275, 280, 284, 285, 286, 287, 289, 290, 291, 293, 294, 296, 304, 306, 307, 310, 316, 321, 322, 323, 325, 327, 328, 329, 330, 331, 332, 340, 341, 342, 349, 354, 369, 375, 376, 379, 380, 381, 383, 385, 394, 397, 398, 400, 401, 403, 405, 406, 408, 409, 410, 412, 413, 414, 416, 424, 427, 428, 432, 433, 435, 437, 445, 446, 448, 449, 450, 451, 452, 454, 456, 458, 459, 461, 463, 469, 472, 474, 476, 485, 492, 493, 496, 497, 501, 502, 503, 505, 507, 508, 509, 510, 511, 514, 515, 518, 519, 520, 521, 522, 523, 524, 528, 529, 530, 532, 533, 534, 535, 536, 541, 542, 546, 551, 559, 560, 561, 562, 563, 566, 568, 572, 573, 574, 578, 579, 580, 581, 583, 584, 585, 586, 587, 588, 589, 592, 594, 595, 596, 599, 600, 602, 603, 604, 605, 607, 610, 611, 614, 623, 628, 630, 632, 634, 635, 636, 638, 642, 644, 645, 646, 648, 651, 653, 659, 660, 661, 664, 675, 680, 682, 684, 685, 687, 688, 689, 690, 693, 694, 696, 699, 701, 702, 704, 706, 711, 713, 715, 718, 719, 721, 722, 726, 728, 735, 739, 741, 742, 743, 745, 747, 753, 754, 757, 759, 760, 765, 766, 767, 768, 769, 770, 772, 774, 780, 781, 783, 788, 793, 797, 798, 811, 812, 813, 814, 820, 821, 824, 825, 827, 832, 837, 838, 839, 840, 841, 842, 847, 849, 850, 851, 852, 854, 855, 856, 860, 861, 862, 864, 865, 866, 867, 870, 872, 876, 878, 879, 881, 885, 890, 891, 893, 897, 898, 899, 900, 905, 906, 909, 910, 915, 920, 922, 926, 929, 936, 940, 941, 955, 963, 964, 969, 972, 976, 977, 978, 979, 981, 982, 986, 987, 989, 990, 991, 993, 995, 996, 997, 999, 1000, 1004, 1007, 1010, 1011, 1014, 1015, 1020, 1022, 1032, 1033, 1035, 1046, 1047, 1050, 1053, 1063, 1067, 1068, 1069, 1071, 1072, 1074, 1078, 1082, 1084, 1086, 1089, 1091, 1094, 1095, 1096, 1097, 1098, 1099, 1100, 1102, 1103, 1105, 1108, 1118, 1120, 1121, 1122, 1123, 1126, 1128, 1130, 1132, 1134, 1135, 1136, 1137, 1139, 1142, 1143, 1144, 1145, 1146, 1147, 1149, 1151, 1153, 1154, 1155, 1156, 1157, 1158, 1162, 1163, 1164, 1165, 1168, 1169, 1173, 1174, 1175, 1177, 1179, 1184, 1187, 1189, 1190, 1193, 1199, 1200, 1203, 1205, 1207, 1211, 1212, 1213, 1214, 1220, 1223, 1226, 1230, 1231, 1236, 1241, 1248, 1252, 1253, 1254, 1255, 1256, 1258, 1260, 1261, 1262, 1265, 1267, 1268, 1269, 1271, 1273, 1275, 1278, 1279, 1282, 1284, 1286, 1288, 1291, 1292, 1296, 1298, 1299, 1300, 1310, 1317, 1322, 1324, 1334, 1335, 1336, 1339, 1341, 1343, 1344, 1345, 1346, 1349, 1353, 1354, 1355, 1357, 1358, 1360, 1361, 1362, 1366, 1367, 1368, 1369, 1370, 1371, 1373, 1374, 1375, 1381, 1385, 1392, 1394, 1397, 1398, 1402, 1403, 1404, 1407, 1409, 1411, 1414, 1416, 1421, 1423, 1426, 1427, 1429, 1434, 1439, 1440, 1441, 1444, 1446, 1447, 1455, 1459, 1460, 1464, 1466, 1471, 1472, 1477, 1478, 1479, 1480, 1481, 1484, 1486, 1487, 1488, 1490, 1495], 3: [3, 12, 14, 15, 17, 18, 33, 34, 38, 44, 45, 56, 61, 64, 66, 76, 82, 87, 88, 92, 104, 107, 123, 125, 137, 147, 158, 168, 173, 175, 197, 207, 230, 232, 234, 235, 236, 239, 242, 297, 300, 302, 317, 326, 334, 335, 336, 338, 361, 363, 364, 365, 366, 367, 368, 370, 371, 372, 373, 374, 389, 417, 429, 442, 447, 464, 466, 471, 477, 491, 512, 513, 540, 544, 567, 606, 612, 622, 629, 633, 637, 641, 654, 656, 676, 679, 692, 695, 700, 703, 714, 734, 736, 737, 738, 740, 746, 750, 752, 762, 771, 777, 779, 782, 784, 791, 804, 808, 815, 818, 826, 830, 833, 836, 858, 863, 887, 889, 894, 901, 925, 937, 942, 943, 944, 946, 947, 949, 952, 953, 954, 956, 1003, 1018, 1019, 1025, 1031, 1051, 1076, 1077, 1079, 1085, 1090, 1106, 1109, 1110, 1111, 1114, 1129, 1131, 1180, 1183, 1185, 1194, 1206, 1217, 1218, 1219, 1221, 1222, 1224, 1228, 1232, 1234, 1239, 1340, 1342, 1350, 1351, 1352, 1356, 1359, 1363, 1401, 1410, 1451, 1454, 1461, 1475, 1489, 1494, 1496, 1497, 1499]}\n",
      "Wall time: 17.4 s\n"
     ]
    }
   ],
   "source": [
    "%%time\n",
    "inertia1=[]\n",
    "for Num_of_clusters in range(1):\n",
    "    ### TO initialize the centroids\n",
    "    sum_of_jaccard_for_wordID={}\n",
    "    for i in jaccard_matrix:\n",
    "        sum_of_jaccard_for_wordID[i]=sum(jaccard_matrix[i].values())\n",
    "    ### Taking highest 10 sums\n",
    "    max_10_sum=sorted(list(sum_of_jaccard_for_wordID.values()),reverse=True)[:3] ## Taking 3 cluster here\n",
    "    initial_centroid=[]\n",
    "    for j in jaccard_matrix:\n",
    "        if sum_of_jaccard_for_wordID[j] in max_10_sum:\n",
    "            initial_centroid.append(j)\n",
    "    #print(initial_centroid)\n",
    "    #print(sum_of_jaccard_for_wordID) \n",
    "    \n",
    "    cluster=cluster_func1(initial_centroid)\n",
    "    prev_centroids=initial_centroid\n",
    "    new_centroids=[]\n",
    "    for itr in range(10):\n",
    "        if prev_centroids==new_centroids:  ## If the centroids are not changing then we won't iterate more.\n",
    "            break\n",
    "        prev_centroids=new_centroids\n",
    "        prev_cluster=list(cluster.keys())\n",
    "        new_centroids=[]\n",
    "        for i in prev_cluster:\n",
    "            cluster_element=cluster[i]\n",
    "            total=[0]*(len(df)+1)\n",
    "            for j in cluster_element:\n",
    "                total += dic[j]       ### Adding up all list of a cluster\n",
    "            avg = [x / len(cluster_element) for x in total]  ## Now we will get some fractional value\n",
    "            for k in range(len(avg)):   ### Converting it only in 0 or 1\n",
    "                if avg[k]>=0.05:\n",
    "                    avg[k]=1\n",
    "                else:\n",
    "                    avg[k]=0\n",
    "            elements=[]           ### Storing the wordID for that centroid of the cluster\n",
    "            for l in range(len(avg)):\n",
    "                if avg[l]==1:\n",
    "                    elements.append(l)\n",
    "    ### Now we will check which docID has best similarity with the calculated centroid.\n",
    "    ### Best similarity docID wil be our new centroid\n",
    "            min_index=np.inf\n",
    "            center=-1\n",
    "            for m in cluster_element:\n",
    "                jac=jaccard_distance(D[m],elements)\n",
    "                if jac<min_index:\n",
    "                    min_index=jac\n",
    "                    center=m\n",
    "            new_centroids.append(center)\n",
    "        cluster=cluster_func1(new_centroids)\n",
    "        \n",
    "    print(new_centroids)\n",
    "    print(cluster)\n",
    "    s=0\n",
    "    for i in new_centroids:\n",
    "        for j in cluster[i]:\n",
    "            s=s+ jaccard_matrix[i][j]**2\n",
    "    s=s/len(new_centroids) \n",
    "    inertia1.append(s)"
   ]
  },
  {
   "cell_type": "code",
   "execution_count": null,
   "metadata": {},
   "outputs": [],
   "source": []
  }
 ],
 "metadata": {
  "kernelspec": {
   "display_name": "Python 3",
   "language": "python",
   "name": "python3"
  },
  "language_info": {
   "codemirror_mode": {
    "name": "ipython",
    "version": 3
   },
   "file_extension": ".py",
   "mimetype": "text/x-python",
   "name": "python",
   "nbconvert_exporter": "python",
   "pygments_lexer": "ipython3",
   "version": "3.7.6"
  }
 },
 "nbformat": 4,
 "nbformat_minor": 4
}
