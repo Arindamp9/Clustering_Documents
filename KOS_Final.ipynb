{
 "cells": [
  {
   "cell_type": "markdown",
   "metadata": {},
   "source": [
    "# Clustering_documents\n",
   ]
  },
  {
   "cell_type": "code",
   "execution_count": 1,
   "metadata": {},
   "outputs": [],
   "source": [
    "import pandas as pd\n",
    "import numpy as np\n",
    "import matplotlib.pyplot as plt\n",
    "import seaborn as sns\n",
    "%matplotlib inline"
   ]
  },
  {
   "cell_type": "code",
   "execution_count": 2,
   "metadata": {},
   "outputs": [],
   "source": [
    "df=pd.read_csv('vocab.kos.txt',names=['vocab'])\n",
    "df1=pd.read_csv('docword.kos.txt',sep=' ',names=['docID' ,'wordID','count'],skiprows=[0,1,2])"
   ]
  },
  {
   "cell_type": "code",
   "execution_count": 3,
   "metadata": {},
   "outputs": [
    {
     "data": {
      "text/html": [
       "<div>\n",
       "<style scoped>\n",
       "    .dataframe tbody tr th:only-of-type {\n",
       "        vertical-align: middle;\n",
       "    }\n",
       "\n",
       "    .dataframe tbody tr th {\n",
       "        vertical-align: top;\n",
       "    }\n",
       "\n",
       "    .dataframe thead th {\n",
       "        text-align: right;\n",
       "    }\n",
       "</style>\n",
       "<table border=\"1\" class=\"dataframe\">\n",
       "  <thead>\n",
       "    <tr style=\"text-align: right;\">\n",
       "      <th></th>\n",
       "      <th>vocab</th>\n",
       "    </tr>\n",
       "  </thead>\n",
       "  <tbody>\n",
       "    <tr>\n",
       "      <th>0</th>\n",
       "      <td>aarp</td>\n",
       "    </tr>\n",
       "    <tr>\n",
       "      <th>1</th>\n",
       "      <td>abandon</td>\n",
       "    </tr>\n",
       "    <tr>\n",
       "      <th>2</th>\n",
       "      <td>abandoned</td>\n",
       "    </tr>\n",
       "    <tr>\n",
       "      <th>3</th>\n",
       "      <td>abandoning</td>\n",
       "    </tr>\n",
       "    <tr>\n",
       "      <th>4</th>\n",
       "      <td>abb</td>\n",
       "    </tr>\n",
       "  </tbody>\n",
       "</table>\n",
       "</div>"
      ],
      "text/plain": [
       "        vocab\n",
       "0        aarp\n",
       "1     abandon\n",
       "2   abandoned\n",
       "3  abandoning\n",
       "4         abb"
      ]
     },
     "execution_count": 3,
     "metadata": {},
     "output_type": "execute_result"
    }
   ],
   "source": [
    "df.head()"
   ]
  },
  {
   "cell_type": "code",
   "execution_count": 5,
   "metadata": {},
   "outputs": [
    {
     "data": {
      "text/plain": [
       "(6906, 1)"
      ]
     },
     "execution_count": 5,
     "metadata": {},
     "output_type": "execute_result"
    }
   ],
   "source": [
    "df.shape"
   ]
  },
  {
   "cell_type": "code",
   "execution_count": 6,
   "metadata": {},
   "outputs": [
    {
     "data": {
      "text/html": [
       "<div>\n",
       "<style scoped>\n",
       "    .dataframe tbody tr th:only-of-type {\n",
       "        vertical-align: middle;\n",
       "    }\n",
       "\n",
       "    .dataframe tbody tr th {\n",
       "        vertical-align: top;\n",
       "    }\n",
       "\n",
       "    .dataframe thead th {\n",
       "        text-align: right;\n",
       "    }\n",
       "</style>\n",
       "<table border=\"1\" class=\"dataframe\">\n",
       "  <thead>\n",
       "    <tr style=\"text-align: right;\">\n",
       "      <th></th>\n",
       "      <th>docID</th>\n",
       "      <th>wordID</th>\n",
       "      <th>count</th>\n",
       "    </tr>\n",
       "  </thead>\n",
       "  <tbody>\n",
       "    <tr>\n",
       "      <th>0</th>\n",
       "      <td>1</td>\n",
       "      <td>61</td>\n",
       "      <td>2</td>\n",
       "    </tr>\n",
       "    <tr>\n",
       "      <th>1</th>\n",
       "      <td>1</td>\n",
       "      <td>76</td>\n",
       "      <td>1</td>\n",
       "    </tr>\n",
       "    <tr>\n",
       "      <th>2</th>\n",
       "      <td>1</td>\n",
       "      <td>89</td>\n",
       "      <td>1</td>\n",
       "    </tr>\n",
       "    <tr>\n",
       "      <th>3</th>\n",
       "      <td>1</td>\n",
       "      <td>211</td>\n",
       "      <td>1</td>\n",
       "    </tr>\n",
       "    <tr>\n",
       "      <th>4</th>\n",
       "      <td>1</td>\n",
       "      <td>296</td>\n",
       "      <td>1</td>\n",
       "    </tr>\n",
       "  </tbody>\n",
       "</table>\n",
       "</div>"
      ],
      "text/plain": [
       "   docID  wordID  count\n",
       "0      1      61      2\n",
       "1      1      76      1\n",
       "2      1      89      1\n",
       "3      1     211      1\n",
       "4      1     296      1"
      ]
     },
     "execution_count": 6,
     "metadata": {},
     "output_type": "execute_result"
    }
   ],
   "source": [
    "df1.head()"
   ]
  },
  {
   "cell_type": "code",
   "execution_count": 7,
   "metadata": {},
   "outputs": [
    {
     "data": {
      "text/plain": [
       "(353160, 3)"
      ]
     },
     "execution_count": 7,
     "metadata": {},
     "output_type": "execute_result"
    }
   ],
   "source": [
    "df1.shape"
   ]
  },
  {
   "cell_type": "code",
   "execution_count": 8,
   "metadata": {},
   "outputs": [
    {
     "name": "stdout",
     "output_type": "stream",
     "text": [
      "Wall time: 3.19 s\n"
     ]
    }
   ],
   "source": [
    "%%time\n",
    "### Keys are docID and values are list of wordID present in that doc\n",
    "D={}\n",
    "for i in range(1,max(df1['docID'])+1):\n",
    "    D[i]=list(df1[df1['docID']==i]['wordID'])"
   ]
  },
  {
   "cell_type": "code",
   "execution_count": 9,
   "metadata": {},
   "outputs": [
    {
     "name": "stdout",
     "output_type": "stream",
     "text": [
      "Wall time: 348 ms\n"
     ]
    }
   ],
   "source": [
    "%%time\n",
    "#### Keys are docID and values are 0 or 1. if a wordID is there then in that position we will put 1.\n",
    "dic={}\n",
    "for i in range(1,max(df1['docID'])+1):\n",
    "    dic[i]=[0]*(len(df)+1)\n",
    "\n",
    "for i in D.keys():\n",
    "    le=len(D[i])\n",
    "    ## 'le' is the number of word present in an document\n",
    "    for j in range(le):\n",
    "        word=D[i][j]\n",
    "        dic[i][word]=1"
   ]
  },
  {
   "cell_type": "code",
   "execution_count": 10,
   "metadata": {},
   "outputs": [],
   "source": [
    "def jaccard_distance(doc1, doc2):\n",
    "    doc1=set(doc1)\n",
    "    doc2=set(doc2)\n",
    "    intersection_len = len(doc1.intersection(doc2))\n",
    "    union_len = len(doc1) + len(doc2) - intersection_len\n",
    "    return 1-(intersection_len / union_len)"
   ]
  },
  {
   "cell_type": "code",
   "execution_count": 11,
   "metadata": {},
   "outputs": [
    {
     "name": "stdout",
     "output_type": "stream",
     "text": [
      "Wall time: 4min 8s\n"
     ]
    }
   ],
   "source": [
    "%%time\n",
    "jaccard_matrix={}\n",
    "for i in range(1,max(df1['docID'])+1):\n",
    "    jaccard_matrix[i]={}\n",
    "    for j in range(1,max(df1['docID'])+1):\n",
    "        if j not in jaccard_matrix:\n",
    "            jaccard_matrix[j]={}\n",
    "        distance=jaccard_distance(D[i],D[j])\n",
    "        jaccard_matrix[i][j]=distance\n",
    "        jaccard_matrix[j][i]=distance"
   ]
  },
  {
   "cell_type": "code",
   "execution_count": 12,
   "metadata": {},
   "outputs": [],
   "source": [
    "def cluster_func(centroid):\n",
    "    cluster={}\n",
    "    for cen in centroid:\n",
    "        cluster[cen]=[]\n",
    "    for i in jaccard_matrix:\n",
    "        min_distance=np.inf\n",
    "        c=-1\n",
    "        for j in centroid:\n",
    "            if jaccard_matrix[j][i]<min_distance:\n",
    "                min_distance=jaccard_matrix[j][i]\n",
    "                c=j\n",
    "        cluster[c].append(i)\n",
    "    return(cluster)"
   ]
  },
  {
   "cell_type": "code",
   "execution_count": 14,
   "metadata": {},
   "outputs": [
    {
     "name": "stdout",
     "output_type": "stream",
     "text": [
      "[1791]\n",
      "[1]\n",
      "[1]\n",
      "[1791, 2098]\n",
      "[1, 10]\n",
      "[1, 2]\n",
      "[1, 2]\n",
      "[189, 1791, 2098]\n",
      "[1, 12, 11]\n",
      "[1, 3, 4]\n",
      "[1, 3, 4]\n",
      "[189, 452, 1791, 2098]\n",
      "[1, 4, 12, 11]\n",
      "[1, 4, 3, 8]\n",
      "[1, 4, 3, 6]\n",
      "[1, 4, 3, 6]\n",
      "[189, 452, 1317, 1791, 2098]\n",
      "[1, 4, 24, 12, 11]\n",
      "[1, 4, 24, 3, 8]\n",
      "[1, 4, 16, 3, 6]\n",
      "[1, 4, 15, 3, 6]\n",
      "[1, 4, 14, 3, 6]\n",
      "[1, 4, 14, 3, 6]\n",
      "[189, 452, 1317, 1791, 2098, 3389]\n",
      "[1, 25, 24, 12, 11, 4]\n",
      "[1, 17, 24, 3, 8, 4]\n",
      "[1, 15, 24, 3, 6, 4]\n",
      "[1, 14, 24, 3, 6, 4]\n",
      "[1, 14, 16, 3, 6, 4]\n",
      "[1, 14, 16, 3, 6, 4]\n",
      "[189, 452, 489, 1317, 1791, 2098, 3389]\n",
      "[1, 25, 15, 24, 12, 11, 4]\n",
      "[1, 17, 14, 24, 3, 8, 4]\n",
      "[1, 16, 14, 24, 3, 6, 4]\n",
      "[1, 16, 14, 24, 3, 6, 4]\n",
      "[189, 452, 489, 1317, 1791, 2098, 2591, 3389]\n",
      "[1, 25, 15, 24, 12, 11, 22, 4]\n",
      "[1, 17, 14, 24, 3, 8, 22, 4]\n",
      "[1, 16, 14, 24, 3, 6, 22, 4]\n",
      "[1, 16, 14, 24, 3, 6, 22, 4]\n",
      "[189, 452, 489, 1317, 1344, 1791, 2098, 2591, 3389]\n",
      "[2, 25, 15, 24, 1, 12, 11, 22, 4]\n",
      "[2, 17, 14, 24, 1, 3, 8, 22, 4]\n",
      "[2, 16, 14, 24, 1, 3, 6, 22, 4]\n",
      "[2, 16, 14, 24, 1, 3, 6, 22, 4]\n",
      "[189, 452, 489, 1317, 1344, 1791, 2098, 2591, 2671, 3389]\n",
      "[2, 25, 15, 24, 51, 12, 11, 22, 1, 4]\n",
      "[2, 17, 14, 24, 23, 3, 8, 22, 1, 4]\n",
      "[2, 17, 14, 24, 16, 3, 6, 22, 1, 4]\n",
      "[2, 17, 14, 24, 16, 3, 6, 22, 1, 4]\n",
      "[189, 452, 489, 907, 1317, 1344, 1791, 2098, 2591, 2671, 3389]\n",
      "[2, 25, 15, 1, 24, 51, 12, 11, 22, 45, 4]\n",
      "[2, 17, 14, 1, 24, 23, 12, 8, 22, 3, 4]\n",
      "[2, 17, 14, 1, 24, 16, 12, 6, 22, 3, 4]\n",
      "[2, 17, 14, 1, 24, 16, 12, 6, 22, 3, 4]\n",
      "[189, 452, 489, 907, 1317, 1344, 1791, 2098, 2591, 2671, 2757, 3389]\n",
      "[2, 25, 15, 1, 24, 51, 12, 11, 22, 45, 36, 4]\n",
      "[2, 17, 14, 1, 24, 23, 12, 8, 22, 3, 36, 4]\n",
      "[2, 17, 14, 1, 24, 16, 12, 6, 22, 3, 36, 4]\n",
      "[2, 17, 14, 1, 24, 16, 12, 6, 22, 3, 36, 4]\n",
      "[189, 452, 489, 677, 907, 1317, 1344, 1791, 2098, 2591, 2671, 2757, 3389]\n",
      "[2, 25, 15, 42, 1, 24, 51, 12, 11, 22, 45, 36, 4]\n",
      "[2, 17, 14, 6, 1, 24, 23, 12, 8, 22, 3, 36, 4]\n",
      "[2, 17, 14, 6, 1, 24, 16, 12, 7, 22, 3, 36, 4]\n",
      "[2, 17, 14, 6, 1, 24, 16, 12, 7, 22, 3, 36, 4]\n",
      "[112, 189, 452, 489, 677, 907, 1317, 1344, 1791, 2098, 2591, 2671, 2757, 3389]\n",
      "[9, 2, 25, 15, 92, 1, 24, 52, 12, 11, 22, 48, 67, 4]\n",
      "[6, 2, 17, 14, 79, 1, 24, 31, 3, 11, 22, 19, 29, 4]\n",
      "[6, 2, 16, 14, 78, 1, 24, 23, 3, 11, 22, 19, 8, 4]\n",
      "[6, 2, 16, 14, 28, 1, 24, 23, 3, 11, 22, 18, 7, 4]\n",
      "[6, 2, 16, 14, 27, 1, 24, 23, 3, 11, 22, 17, 7, 4]\n",
      "[6, 2, 16, 14, 26, 1, 24, 23, 3, 11, 22, 17, 7, 4]\n",
      "[6, 2, 16, 14, 25, 1, 24, 23, 3, 11, 22, 17, 7, 4]\n",
      "[6, 2, 16, 14, 25, 1, 24, 23, 3, 11, 22, 17, 7, 4]\n",
      "Wall time: 10min 45s\n"
     ]
    }
   ],
   "source": [
    "%%time\n",
    "inertia=[]\n",
    "for Num_of_clusters in range(1,15):\n",
    "    ### TO initialize the centroids\n",
    "    sum_of_jaccard_for_wordID={}\n",
    "    for i in jaccard_matrix:\n",
    "        sum_of_jaccard_for_wordID[i]=sum(jaccard_matrix[i].values())\n",
    "    ### Taking highest 10 sums\n",
    "    max_10_sum=sorted(list(sum_of_jaccard_for_wordID.values()),reverse=True)[:Num_of_clusters]\n",
    "    initial_centroid=[]\n",
    "    for j in jaccard_matrix:\n",
    "        if sum_of_jaccard_for_wordID[j] in max_10_sum:\n",
    "            initial_centroid.append(j)\n",
    "    print(initial_centroid) \n",
    "    \n",
    "    cluster=cluster_func(initial_centroid)\n",
    "    prev_centroids=initial_centroid\n",
    "    new_centroids=[]\n",
    "    ### Now we will update our centroids\n",
    "    for itr in range(10):\n",
    "        if prev_centroids==new_centroids:  ## If the centroids are not changing then we will get the optimized clusters.\n",
    "            break\n",
    "        prev_centroids=new_centroids\n",
    "        prev_cluster=list(cluster.keys())\n",
    "        new_centroids=[]\n",
    "        for i in prev_cluster:\n",
    "            cluster_element=cluster[i]\n",
    "            total=[0]*(len(df)+1)\n",
    "            for j in cluster_element:\n",
    "                total += dic[j]       ### Adding up all list of a cluster\n",
    "            avg = [x / len(cluster_element) for x in total]  ## Now we will get some fractional value\n",
    "            for k in range(len(avg)):   ### Converting it only in 0 or 1\n",
    "                if avg[k]>=0.05:\n",
    "                    avg[k]=1\n",
    "                else:\n",
    "                    avg[k]=0\n",
    "            elements=[]           ### Storing the wordID for that centroid of the cluster\n",
    "            for l in range(len(avg)):\n",
    "                if avg[l]==1:\n",
    "                    elements.append(l)\n",
    "    ### Now we will check which docID has best similarity with the calculated centroid.\n",
    "    ### Best similarity docID wil be our new centroid\n",
    "            min_index=np.inf\n",
    "            #center=-1\n",
    "            for m in cluster_element:\n",
    "                jac=jaccard_distance(D[m],elements)\n",
    "                if jac<min_index:\n",
    "                    min_index=jac\n",
    "                    center=m\n",
    "            new_centroids.append(center)\n",
    "        print(new_centroids)\n",
    "        cluster=cluster_func(new_centroids)\n",
    "        #print(cluster[new_centroids[0]])\n",
    "        \n",
    "   ### Calculating inertia\n",
    "    s=0\n",
    "    for i in new_centroids:\n",
    "        for j in cluster[i]:\n",
    "            s+= jaccard_matrix[i][j]**2\n",
    "    s=s/len(new_centroids) \n",
    "    inertia.append(s)"
   ]
  },
  {
   "cell_type": "code",
   "execution_count": 15,
   "metadata": {},
   "outputs": [
    {
     "data": {
      "text/plain": [
       "[3190.645734311518,\n",
       " 1581.654700924983,\n",
       " 985.5400040354381,\n",
       " 733.8351943673136,\n",
       " 585.8101467586777,\n",
       " 483.88362889300316,\n",
       " 414.31082683063585,\n",
       " 362.0022824468479,\n",
       " 320.7412732955832,\n",
       " 288.27447895153944,\n",
       " 261.1724410379792,\n",
       " 239.08309006289315,\n",
       " 220.252126660889,\n",
       " 204.2744909101701]"
      ]
     },
     "execution_count": 15,
     "metadata": {},
     "output_type": "execute_result"
    }
   ],
   "source": [
    "inertia"
   ]
  },
  {
   "cell_type": "code",
   "execution_count": 17,
   "metadata": {},
   "outputs": [
    {
     "data": {
      "image/png": "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\n",
      "text/plain": [
       "<Figure size 432x288 with 1 Axes>"
      ]
     },
     "metadata": {
      "needs_background": "light"
     },
     "output_type": "display_data"
    }
   ],
   "source": [
    "plt.plot(range(1,15),inertia,'bo-');"
   ]
  },
  {
   "cell_type": "markdown",
   "metadata": {},
   "source": [
    "**From the Elbow plot we can conclude that the optimized k is 3. So we will take 3 clusters here.**"
   ]
  },
  {
   "cell_type": "code",
   "execution_count": 20,
   "metadata": {},
   "outputs": [
    {
     "name": "stdout",
     "output_type": "stream",
     "text": [
      "[1, 3, 4]\n",
      "{1: [1, 2, 7, 9, 10, 11, 19, 22, 31, 32, 36, 38, 40, 41, 42, 44, 47, 48, 49, 54, 55, 56, 57, 59, 62, 72, 73, 74, 76, 78, 79, 82, 84, 85, 86, 87, 88, 92, 93, 94, 96, 97, 101, 104, 105, 106, 108, 109, 111, 115, 116, 117, 118, 119, 120, 121, 122, 123, 124, 127, 132, 136, 137, 144, 146, 147, 154, 156, 158, 160, 162, 164, 165, 166, 170, 172, 174, 176, 177, 178, 183, 184, 188, 190, 192, 193, 195, 196, 198, 199, 200, 201, 206, 207, 208, 213, 214, 216, 221, 225, 228, 232, 234, 235, 237, 241, 249, 255, 261, 266, 268, 270, 273, 274, 275, 276, 277, 278, 284, 285, 288, 291, 293, 295, 296, 298, 299, 301, 306, 308, 309, 312, 314, 315, 316, 320, 322, 329, 330, 333, 335, 336, 339, 341, 342, 345, 346, 347, 349, 350, 351, 355, 358, 362, 363, 367, 368, 370, 371, 375, 380, 381, 383, 389, 390, 391, 392, 393, 394, 395, 396, 399, 402, 403, 404, 405, 406, 407, 410, 413, 415, 417, 418, 419, 423, 424, 425, 426, 428, 432, 435, 437, 438, 439, 444, 447, 451, 453, 454, 456, 464, 465, 466, 467, 468, 471, 472, 475, 476, 477, 479, 480, 482, 487, 491, 495, 496, 497, 502, 503, 506, 507, 508, 510, 513, 518, 521, 524, 525, 526, 527, 528, 530, 531, 532, 534, 535, 539, 542, 543, 549, 552, 555, 558, 559, 561, 563, 567, 568, 570, 572, 574, 577, 578, 582, 583, 584, 585, 588, 591, 595, 598, 601, 604, 605, 612, 615, 616, 617, 618, 620, 622, 623, 624, 625, 628, 630, 631, 633, 634, 637, 638, 643, 645, 646, 647, 648, 652, 653, 654, 656, 665, 666, 668, 669, 671, 673, 675, 676, 678, 679, 680, 681, 682, 683, 689, 694, 696, 707, 708, 709, 720, 722, 723, 724, 725, 729, 730, 732, 735, 738, 739, 740, 741, 743, 746, 747, 750, 752, 753, 757, 758, 760, 761, 764, 766, 768, 771, 772, 773, 774, 777, 779, 780, 782, 783, 788, 791, 796, 797, 799, 800, 803, 808, 809, 810, 811, 812, 815, 816, 817, 818, 821, 822, 823, 824, 828, 829, 830, 832, 846, 854, 856, 857, 862, 864, 865, 866, 867, 870, 874, 876, 877, 879, 882, 886, 894, 895, 896, 898, 904, 905, 907, 908, 909, 910, 914, 915, 918, 920, 921, 923, 926, 928, 929, 930, 931, 932, 933, 936, 941, 942, 943, 944, 945, 951, 952, 953, 956, 958, 959, 962, 968, 969, 972, 973, 977, 978, 979, 981, 984, 985, 986, 987, 988, 990, 993, 994, 995, 996, 998, 1000, 1001, 1003, 1004, 1005, 1006, 1008, 1011, 1013, 1015, 1016, 1017, 1019, 1020, 1021, 1022, 1023, 1025, 1026, 1029, 1030, 1031, 1032, 1033, 1034, 1039, 1042, 1043, 1044, 1045, 1046, 1047, 1048, 1049, 1051, 1052, 1053, 1054, 1055, 1058, 1060, 1063, 1065, 1066, 1067, 1068, 1069, 1070, 1072, 1075, 1078, 1080, 1082, 1084, 1086, 1087, 1093, 1094, 1097, 1099, 1100, 1101, 1102, 1103, 1104, 1105, 1106, 1108, 1110, 1111, 1113, 1116, 1119, 1120, 1122, 1123, 1125, 1126, 1127, 1128, 1129, 1131, 1132, 1134, 1135, 1139, 1140, 1141, 1142, 1148, 1149, 1152, 1153, 1155, 1156, 1159, 1160, 1162, 1163, 1164, 1165, 1166, 1168, 1169, 1171, 1174, 1175, 1176, 1177, 1178, 1179, 1183, 1184, 1185, 1186, 1189, 1190, 1194, 1196, 1198, 1202, 1203, 1205, 1206, 1209, 1210, 1211, 1214, 1217, 1218, 1220, 1222, 1223, 1224, 1225, 1227, 1228, 1230, 1231, 1232, 1234, 1235, 1242, 1244, 1246, 1247, 1248, 1250, 1251, 1253, 1254, 1255, 1256, 1257, 1258, 1259, 1260, 1261, 1262, 1263, 1266, 1268, 1270, 1271, 1272, 1274, 1275, 1278, 1282, 1283, 1284, 1288, 1290, 1291, 1293, 1295, 1296, 1297, 1298, 1299, 1301, 1302, 1303, 1305, 1309, 1312, 1313, 1318, 1319, 1320, 1323, 1324, 1325, 1326, 1328, 1329, 1330, 1332, 1333, 1334, 1335, 1336, 1337, 1340, 1342, 1343, 1344, 1346, 1347, 1348, 1350, 1353, 1358, 1359, 1360, 1365, 1369, 1371, 1377, 1378, 1382, 1383, 1384, 1385, 1389, 1391, 1394, 1396, 1397, 1399, 1403, 1404, 1405, 1408, 1413, 1415, 1416, 1417, 1420, 1421, 1424, 1425, 1426, 1429, 1430, 1431, 1435, 1436, 1437, 1440, 1441, 1442, 1447, 1449, 1450, 1451, 1453, 1455, 1457, 1459, 1460, 1461, 1462, 1464, 1467, 1468, 1469, 1470, 1473, 1474, 1475, 1476, 1478, 1479, 1480, 1481, 1482, 1484, 1485, 1487, 1490, 1491, 1492, 1493, 1496, 1497, 1499, 1500, 1501, 1502, 1503, 1504, 1505, 1507, 1510, 1512, 1516, 1520, 1522, 1527, 1529, 1530, 1531, 1532, 1534, 1535, 1536, 1537, 1538, 1539, 1540, 1541, 1542, 1543, 1544, 1545, 1547, 1548, 1549, 1552, 1553, 1554, 1562, 1567, 1568, 1569, 1570, 1571, 1572, 1573, 1574, 1576, 1578, 1583, 1584, 1586, 1588, 1590, 1591, 1592, 1596, 1600, 1602, 1603, 1605, 1606, 1607, 1611, 1616, 1617, 1619, 1621, 1625, 1626, 1630, 1632, 1638, 1639, 1640, 1641, 1643, 1649, 1654, 1660, 1662, 1665, 1666, 1671, 1672, 1673, 1674, 1675, 1676, 1678, 1682, 1687, 1688, 1690, 1696, 1698, 1700, 1702, 1705, 1710, 1712, 1713, 1715, 1726, 1727, 1730, 1735, 1736, 1737, 1738, 1739, 1743, 1747, 1748, 1749, 1757, 1758, 1759, 1766, 1773, 1774, 1777, 1792, 1795, 1796, 1797, 1798, 1801, 1804, 1805, 1806, 1808, 1810, 1811, 1812, 1814, 1817, 1821, 1822, 1826, 1832, 1834, 1847, 1848, 1856, 1860, 1865, 1879, 1880, 1881, 1883, 1887, 1900, 1908, 1922, 1923, 1924, 1926, 1949, 1952, 1954, 1959, 1960, 1961, 1963, 1966, 1973, 1974, 1978, 1996, 2004, 2009, 2011, 2016, 2017, 2029, 2030, 2044, 2046, 2048, 2049, 2050, 2061, 2062, 2063, 2065, 2066, 2067, 2069, 2071, 2072, 2076, 2082, 2084, 2093, 2095, 2101, 2105, 2106, 2112, 2113, 2116, 2117, 2118, 2127, 2128, 2129, 2137, 2139, 2142, 2148, 2151, 2152, 2156, 2159, 2161, 2166, 2172, 2176, 2181, 2182, 2184, 2185, 2191, 2192, 2194, 2195, 2196, 2204, 2205, 2208, 2210, 2213, 2216, 2217, 2218, 2219, 2227, 2230, 2232, 2235, 2236, 2237, 2240, 2244, 2248, 2252, 2253, 2254, 2258, 2273, 2278, 2279, 2281, 2282, 2283, 2284, 2292, 2293, 2295, 2299, 2300, 2301, 2303, 2308, 2309, 2312, 2314, 2318, 2319, 2320, 2321, 2328, 2330, 2334, 2335, 2336, 2341, 2342, 2343, 2347, 2348, 2351, 2357, 2359, 2367, 2371, 2372, 2374, 2377, 2379, 2383, 2387, 2388, 2394, 2396, 2397, 2399, 2400, 2401, 2403, 2405, 2406, 2407, 2420, 2426, 2427, 2433, 2437, 2438, 2448, 2454, 2455, 2464, 2465, 2468, 2469, 2470, 2471, 2476, 2477, 2485, 2488, 2490, 2491, 2495, 2499, 2504, 2508, 2513, 2514, 2515, 2516, 2517, 2518, 2521, 2522, 2523, 2524, 2525, 2528, 2529, 2530, 2531, 2533, 2534, 2536, 2537, 2541, 2543, 2546, 2551, 2552, 2554, 2555, 2557, 2559, 2560, 2564, 2565, 2567, 2569, 2570, 2571, 2578, 2580, 2581, 2582, 2583, 2584, 2589, 2593, 2594, 2595, 2597, 2605, 2607, 2612, 2615, 2618, 2619, 2622, 2624, 2626, 2631, 2634, 2638, 2639, 2640, 2641, 2642, 2649, 2650, 2653, 2655, 2656, 2661, 2664, 2665, 2667, 2670, 2675, 2678, 2685, 2692, 2693, 2695, 2696, 2698, 2701, 2704, 2705, 2708, 2713, 2714, 2715, 2723, 2724, 2730, 2732, 2733, 2734, 2736, 2739, 2742, 2743, 2744, 2745, 2747, 2748, 2749, 2751, 2752, 2755, 2756, 2757, 2758, 2759, 2764, 2765, 2770, 2771, 2772, 2777, 2778, 2779, 2782, 2783, 2786, 2790, 2793, 2795, 2798, 2799, 2802, 2804, 2809, 2811, 2812, 2813, 2814, 2815, 2816, 2817, 2819, 2823, 2824, 2825, 2826, 2827, 2828, 2830, 2833, 2834, 2835, 2839, 2843, 2845, 2846, 2850, 2851, 2855, 2857, 2859, 2860, 2865, 2867, 2868, 2871, 2872, 2875, 2881, 2882, 2884, 2890, 2891, 2893, 2894, 2899, 2901, 2905, 2907, 2908, 2909, 2910, 2911, 2912, 2918, 2919, 2922, 2930, 2934, 2935, 2940, 2943, 2945, 2949, 2950, 2956, 2957, 2958, 2960, 2965, 2966, 2968, 2970, 2971, 2973, 2975, 2979, 2980, 2981, 2986, 2987, 2992, 2997, 2998, 3001, 3002, 3003, 3007, 3011, 3012, 3013, 3014, 3015, 3016, 3018, 3019, 3026, 3028, 3030, 3031, 3033, 3038, 3039, 3042, 3043, 3044, 3045, 3046, 3048, 3050, 3053, 3054, 3055, 3058, 3062, 3066, 3068, 3069, 3070, 3071, 3072, 3075, 3076, 3077, 3078, 3081, 3082, 3083, 3088, 3089, 3091, 3092, 3093, 3094, 3095, 3100, 3101, 3102, 3105, 3109, 3110, 3113, 3114, 3115, 3117, 3120, 3124, 3125, 3131, 3132, 3134, 3135, 3136, 3137, 3138, 3140, 3141, 3142, 3143, 3145, 3146, 3151, 3153, 3154, 3157, 3159, 3160, 3161, 3165, 3166, 3172, 3176, 3180, 3181, 3182, 3183, 3186, 3188, 3196, 3197, 3198, 3199, 3200, 3208, 3210, 3212, 3213, 3215, 3216, 3217, 3220, 3222, 3226, 3228, 3229, 3230, 3231, 3232, 3233, 3235, 3238, 3240, 3242, 3243, 3244, 3245, 3246, 3247, 3248, 3251, 3255, 3256, 3257, 3258, 3259, 3260, 3262, 3264, 3265, 3267, 3273, 3276, 3280, 3284, 3289, 3290, 3294, 3298, 3299, 3300, 3301, 3302, 3303, 3304, 3305, 3308, 3309, 3310, 3311, 3313, 3315, 3318, 3319, 3321, 3323, 3326, 3328, 3331, 3333, 3334, 3335, 3336, 3337, 3338, 3339, 3341, 3344, 3345, 3348, 3349, 3350, 3352, 3356, 3357, 3358, 3359, 3360, 3361, 3366, 3367, 3369, 3371, 3372, 3373, 3374, 3375, 3378, 3379, 3380, 3381, 3383, 3385, 3390, 3392, 3394, 3395, 3396, 3397, 3402, 3403, 3404, 3406, 3407, 3409, 3410, 3413, 3414, 3415, 3416, 3417, 3418, 3419, 3423, 3425, 3426, 3427, 3428], 3: [3, 6, 8, 12, 13, 17, 18, 21, 24, 35, 37, 43, 45, 46, 50, 51, 52, 58, 63, 64, 65, 66, 67, 69, 71, 75, 77, 80, 83, 89, 90, 91, 95, 100, 112, 113, 126, 129, 134, 141, 142, 143, 148, 149, 150, 151, 152, 153, 155, 157, 159, 161, 163, 167, 168, 171, 173, 175, 180, 185, 186, 187, 189, 191, 194, 197, 202, 203, 209, 210, 211, 212, 215, 217, 218, 219, 220, 226, 230, 231, 233, 236, 238, 239, 242, 243, 244, 245, 246, 247, 251, 252, 256, 258, 259, 262, 264, 265, 267, 272, 279, 280, 281, 283, 286, 287, 289, 292, 294, 300, 302, 304, 305, 307, 311, 321, 325, 326, 328, 331, 334, 337, 340, 343, 352, 353, 354, 357, 359, 360, 364, 365, 366, 372, 373, 374, 376, 377, 378, 379, 385, 386, 387, 388, 397, 398, 401, 409, 411, 414, 420, 421, 422, 427, 429, 430, 431, 436, 440, 441, 445, 446, 448, 449, 450, 458, 460, 461, 462, 463, 469, 470, 474, 478, 481, 483, 484, 485, 490, 493, 494, 498, 499, 500, 504, 505, 514, 516, 519, 520, 522, 523, 529, 538, 540, 541, 544, 545, 547, 548, 550, 551, 553, 554, 556, 560, 562, 564, 565, 566, 569, 573, 576, 579, 580, 581, 586, 589, 590, 593, 594, 596, 597, 602, 606, 611, 613, 619, 627, 629, 632, 635, 636, 642, 644, 650, 651, 657, 659, 661, 662, 663, 672, 674, 684, 685, 687, 691, 692, 693, 697, 698, 699, 700, 701, 702, 703, 705, 706, 710, 711, 712, 713, 714, 716, 717, 718, 719, 721, 731, 733, 734, 744, 748, 751, 754, 755, 756, 762, 763, 767, 778, 784, 785, 789, 792, 794, 795, 798, 801, 804, 805, 814, 819, 820, 825, 826, 827, 831, 833, 834, 835, 836, 840, 841, 847, 855, 858, 860, 861, 863, 868, 871, 872, 873, 875, 880, 885, 889, 890, 891, 893, 899, 900, 901, 902, 903, 906, 911, 913, 916, 917, 924, 925, 927, 934, 935, 937, 938, 939, 940, 946, 947, 948, 949, 950, 957, 960, 961, 963, 964, 966, 970, 975, 980, 982, 991, 997, 1002, 1009, 1010, 1012, 1024, 1027, 1035, 1037, 1038, 1040, 1050, 1061, 1062, 1073, 1074, 1076, 1077, 1079, 1083, 1085, 1089, 1090, 1091, 1092, 1096, 1098, 1109, 1112, 1118, 1121, 1130, 1133, 1136, 1137, 1143, 1144, 1145, 1146, 1151, 1154, 1157, 1158, 1161, 1167, 1170, 1172, 1180, 1181, 1182, 1191, 1192, 1195, 1197, 1199, 1200, 1201, 1204, 1207, 1212, 1213, 1215, 1216, 1219, 1226, 1229, 1233, 1239, 1240, 1241, 1243, 1245, 1252, 1264, 1265, 1267, 1269, 1276, 1279, 1286, 1287, 1289, 1292, 1304, 1306, 1307, 1308, 1310, 1314, 1316, 1317, 1322, 1327, 1331, 1339, 1341, 1345, 1349, 1351, 1352, 1354, 1355, 1356, 1357, 1364, 1373, 1374, 1375, 1376, 1380, 1381, 1386, 1387, 1388, 1390, 1392, 1393, 1398, 1401, 1402, 1406, 1407, 1409, 1411, 1412, 1418, 1422, 1427, 1428, 1432, 1433, 1434, 1439, 1443, 1444, 1445, 1448, 1452, 1454, 1456, 1458, 1463, 1465, 1466, 1471, 1472, 1477, 1483, 1488, 1489, 1494, 1495, 1506, 1508, 1509, 1511, 1513, 1514, 1515, 1518, 1519, 1521, 1523, 1524, 1525, 1526, 1528, 1533, 1546, 1550, 1551, 1556, 1557, 1560, 1563, 1564, 1565, 1566, 1575, 1577, 1579, 1580, 1581, 1582, 1585, 1589, 1593, 1597, 1601, 1604, 1608, 1609, 1610, 1612, 1614, 1615, 1618, 1620, 1622, 1623, 1624, 1627, 1628, 1629, 1634, 1637, 1644, 1646, 1648, 1650, 1651, 1652, 1653, 1655, 1656, 1657, 1659, 1661, 1667, 1668, 1669, 1670, 1677, 1680, 1686, 1689, 1691, 1692, 1693, 1694, 1695, 1697, 1699, 1701, 1703, 1704, 1708, 1714, 1717, 1718, 1719, 1720, 1723, 1724, 1725, 1728, 1729, 1731, 1732, 1733, 1734, 1740, 1741, 1742, 1746, 1752, 1754, 1755, 1756, 1762, 1763, 1764, 1765, 1767, 1770, 1771, 1772, 1775, 1776, 1779, 1780, 1781, 1783, 1784, 1785, 1786, 1787, 1789, 1790, 1793, 1794, 1799, 1800, 1803, 1807, 1809, 1813, 1815, 1819, 1820, 1825, 1827, 1828, 1829, 1830, 1831, 1835, 1836, 1837, 1838, 1840, 1843, 1846, 1849, 1850, 1851, 1852, 1853, 1854, 1855, 1857, 1858, 1859, 1861, 1862, 1863, 1864, 1868, 1869, 1870, 1871, 1872, 1873, 1874, 1875, 1876, 1877, 1882, 1884, 1885, 1888, 1889, 1890, 1891, 1892, 1893, 1894, 1895, 1896, 1898, 1899, 1901, 1902, 1903, 1904, 1905, 1906, 1907, 1909, 1910, 1912, 1913, 1914, 1916, 1917, 1918, 1919, 1920, 1921, 1927, 1928, 1929, 1930, 1931, 1932, 1933, 1934, 1935, 1937, 1938, 1940, 1941, 1942, 1943, 1944, 1945, 1946, 1947, 1950, 1951, 1955, 1956, 1958, 1965, 1967, 1968, 1969, 1972, 1975, 1976, 1977, 1979, 1980, 1981, 1983, 1984, 1985, 1986, 1988, 1989, 1991, 1992, 1993, 1994, 1995, 1997, 1998, 1999, 2000, 2001, 2003, 2005, 2006, 2007, 2008, 2012, 2013, 2015, 2018, 2020, 2021, 2022, 2023, 2024, 2026, 2027, 2028, 2031, 2032, 2033, 2034, 2035, 2036, 2037, 2038, 2039, 2040, 2041, 2042, 2043, 2045, 2047, 2052, 2053, 2055, 2056, 2057, 2058, 2059, 2060, 2064, 2070, 2073, 2074, 2075, 2077, 2078, 2079, 2080, 2083, 2085, 2088, 2090, 2091, 2092, 2096, 2097, 2099, 2100, 2103, 2104, 2107, 2108, 2114, 2115, 2119, 2120, 2123, 2124, 2125, 2131, 2132, 2133, 2134, 2136, 2138, 2140, 2141, 2143, 2144, 2145, 2147, 2149, 2150, 2154, 2155, 2157, 2158, 2160, 2164, 2165, 2167, 2168, 2169, 2170, 2171, 2174, 2175, 2177, 2178, 2179, 2180, 2183, 2186, 2187, 2188, 2189, 2190, 2193, 2197, 2198, 2199, 2200, 2201, 2202, 2203, 2206, 2207, 2209, 2211, 2212, 2214, 2215, 2220, 2221, 2222, 2223, 2224, 2225, 2226, 2229, 2231, 2233, 2234, 2238, 2239, 2241, 2242, 2243, 2245, 2246, 2247, 2249, 2250, 2251, 2256, 2257, 2259, 2260, 2261, 2262, 2263, 2264, 2266, 2267, 2268, 2269, 2270, 2274, 2275, 2277, 2280, 2285, 2286, 2287, 2289, 2290, 2291, 2296, 2297, 2298, 2302, 2304, 2305, 2310, 2311, 2313, 2315, 2316, 2317, 2322, 2323, 2324, 2325, 2326, 2327, 2331, 2332, 2333, 2337, 2339, 2340, 2344, 2345, 2346, 2349, 2350, 2352, 2353, 2354, 2355, 2356, 2360, 2361, 2362, 2363, 2364, 2365, 2366, 2368, 2369, 2370, 2373, 2375, 2376, 2380, 2381, 2382, 2385, 2386, 2389, 2390, 2391, 2392, 2393, 2398, 2402, 2404, 2408, 2409, 2410, 2412, 2413, 2414, 2415, 2416, 2417, 2418, 2422, 2424, 2425, 2428, 2429, 2430, 2432, 2434, 2435, 2436, 2439, 2440, 2441, 2442, 2443, 2446, 2447, 2449, 2450, 2451, 2452, 2453, 2456, 2457, 2458, 2459, 2460, 2461, 2462, 2463, 2466, 2472, 2473, 2474, 2475, 2478, 2479, 2480, 2481, 2482, 2483, 2486, 2492, 2497, 2498, 2501, 2503, 2505, 2507, 2509, 2510, 2511, 2519, 2520, 2526, 2527, 2532, 2540, 2544, 2545, 2547, 2548, 2549, 2550, 2553, 2556, 2558, 2561, 2562, 2563, 2568, 2572, 2576, 2579, 2587, 2588, 2590, 2599, 2600, 2601, 2602, 2603, 2604, 2606, 2608, 2609, 2610, 2613, 2614, 2616, 2617, 2620, 2621, 2623, 2625, 2627, 2628, 2629, 2630, 2632, 2633, 2635, 2636, 2643, 2644, 2645, 2646, 2647, 2648, 2651, 2652, 2654, 2658, 2659, 2662, 2663, 2666, 2671, 2672, 2673, 2674, 2676, 2677, 2679, 2680, 2683, 2684, 2687, 2690, 2691, 2694, 2697, 2699, 2702, 2703, 2706, 2707, 2709, 2710, 2711, 2712, 2716, 2719, 2721, 2722, 2728, 2729, 2731, 2737, 2738, 2740, 2741, 2750, 2753, 2760, 2761, 2762, 2763, 2766, 2767, 2773, 2774, 2775, 2776, 2780, 2781, 2784, 2785, 2787, 2788, 2789, 2796, 2797, 2800, 2807, 2808, 2810, 2818, 2820, 2821, 2822, 2829, 2836, 2837, 2840, 2842, 2844, 2847, 2848, 2849, 2852, 2854, 2856, 2858, 2861, 2862, 2863, 2869, 2870, 2873, 2876, 2877, 2880, 2883, 2885, 2886, 2887, 2888, 2889, 2892, 2895, 2897, 2898, 2900, 2903, 2904, 2913, 2914, 2916, 2917, 2921, 2923, 2926, 2927, 2929, 2936, 2937, 2941, 2947, 2948, 2951, 2952, 2953, 2954, 2959, 2961, 2962, 2967, 2969, 2972, 2974, 2978, 2982, 2983, 2984, 2988, 2991, 2994, 2995, 2996, 2999, 3000, 3004, 3005, 3006, 3009, 3017, 3021, 3022, 3023, 3024, 3029, 3034, 3035, 3041, 3047, 3049, 3051, 3052, 3057, 3059, 3061, 3063, 3064, 3065, 3067, 3073, 3074, 3079, 3080, 3084, 3085, 3086, 3090, 3096, 3097, 3104, 3106, 3108, 3111, 3116, 3121, 3122, 3126, 3133, 3139, 3144, 3152, 3155, 3156, 3163, 3164, 3167, 3168, 3169, 3171, 3174, 3177, 3179, 3184, 3185, 3187, 3189, 3192, 3194, 3195, 3201, 3202, 3204, 3205, 3206, 3207, 3209, 3211, 3218, 3221, 3223, 3224, 3225, 3227, 3234, 3236, 3237, 3239, 3241, 3249, 3250, 3252, 3261, 3263, 3266, 3268, 3269, 3270, 3271, 3272, 3275, 3277, 3278, 3279, 3282, 3286, 3287, 3288, 3292, 3293, 3297, 3306, 3307, 3314, 3316, 3317, 3320, 3322, 3327, 3329, 3330, 3340, 3342, 3353, 3365, 3370, 3377, 3382, 3384, 3386, 3388, 3391, 3398, 3399, 3408, 3411, 3420, 3421, 3422, 3424, 3429], 4: [4, 5, 14, 15, 16, 20, 23, 25, 26, 27, 28, 29, 30, 33, 34, 39, 53, 60, 61, 68, 70, 81, 98, 99, 102, 103, 107, 110, 114, 125, 128, 130, 131, 133, 135, 138, 139, 140, 145, 169, 179, 181, 182, 204, 205, 222, 223, 224, 227, 229, 240, 248, 250, 253, 254, 257, 260, 263, 269, 271, 282, 290, 297, 303, 310, 313, 317, 318, 319, 323, 324, 327, 332, 338, 344, 348, 356, 361, 369, 382, 384, 400, 408, 412, 416, 433, 434, 442, 443, 452, 455, 457, 459, 473, 486, 488, 489, 492, 501, 509, 511, 512, 515, 517, 533, 536, 537, 546, 557, 571, 575, 587, 592, 599, 600, 603, 607, 608, 609, 610, 614, 621, 626, 639, 640, 641, 649, 655, 658, 660, 664, 667, 670, 677, 686, 688, 690, 695, 704, 715, 726, 727, 728, 736, 737, 742, 745, 749, 759, 765, 769, 770, 775, 776, 781, 786, 787, 790, 793, 802, 806, 807, 813, 837, 838, 839, 842, 843, 844, 845, 848, 849, 850, 851, 852, 853, 859, 869, 878, 881, 883, 884, 887, 888, 892, 897, 912, 919, 922, 954, 955, 965, 967, 971, 974, 976, 983, 989, 992, 999, 1007, 1014, 1018, 1028, 1036, 1041, 1056, 1057, 1059, 1064, 1071, 1081, 1088, 1095, 1107, 1114, 1115, 1117, 1124, 1138, 1147, 1150, 1173, 1187, 1188, 1193, 1208, 1221, 1236, 1237, 1238, 1249, 1273, 1277, 1280, 1281, 1285, 1294, 1300, 1311, 1315, 1321, 1338, 1361, 1362, 1363, 1366, 1367, 1368, 1370, 1372, 1379, 1395, 1400, 1410, 1414, 1419, 1423, 1438, 1446, 1486, 1498, 1517, 1555, 1558, 1559, 1561, 1587, 1594, 1595, 1598, 1599, 1613, 1631, 1633, 1635, 1636, 1642, 1645, 1647, 1658, 1663, 1664, 1679, 1681, 1683, 1684, 1685, 1706, 1707, 1709, 1711, 1716, 1721, 1722, 1744, 1745, 1750, 1751, 1753, 1760, 1761, 1768, 1769, 1778, 1782, 1788, 1791, 1802, 1816, 1818, 1823, 1824, 1833, 1839, 1841, 1842, 1844, 1845, 1866, 1867, 1878, 1886, 1897, 1911, 1915, 1925, 1936, 1939, 1948, 1953, 1957, 1962, 1964, 1970, 1971, 1982, 1987, 1990, 2002, 2010, 2014, 2019, 2025, 2051, 2054, 2068, 2081, 2086, 2087, 2089, 2094, 2098, 2102, 2109, 2110, 2111, 2121, 2122, 2126, 2130, 2135, 2146, 2153, 2162, 2163, 2173, 2228, 2255, 2265, 2271, 2272, 2276, 2288, 2294, 2306, 2307, 2329, 2338, 2358, 2378, 2384, 2395, 2411, 2419, 2421, 2423, 2431, 2444, 2445, 2467, 2484, 2487, 2489, 2493, 2494, 2496, 2500, 2502, 2506, 2512, 2535, 2538, 2539, 2542, 2566, 2573, 2574, 2575, 2577, 2585, 2586, 2591, 2592, 2596, 2598, 2611, 2637, 2657, 2660, 2668, 2669, 2681, 2682, 2686, 2688, 2689, 2700, 2717, 2718, 2720, 2725, 2726, 2727, 2735, 2746, 2754, 2768, 2769, 2791, 2792, 2794, 2801, 2803, 2805, 2806, 2831, 2832, 2838, 2841, 2853, 2864, 2866, 2874, 2878, 2879, 2896, 2902, 2906, 2915, 2920, 2924, 2925, 2928, 2931, 2932, 2933, 2938, 2939, 2942, 2944, 2946, 2955, 2963, 2964, 2976, 2977, 2985, 2989, 2990, 2993, 3008, 3010, 3020, 3025, 3027, 3032, 3036, 3037, 3040, 3056, 3060, 3087, 3098, 3099, 3103, 3107, 3112, 3118, 3119, 3123, 3127, 3128, 3129, 3130, 3147, 3148, 3149, 3150, 3158, 3162, 3170, 3173, 3175, 3178, 3190, 3191, 3193, 3203, 3214, 3219, 3253, 3254, 3274, 3281, 3283, 3285, 3291, 3295, 3296, 3312, 3324, 3325, 3332, 3343, 3346, 3347, 3351, 3354, 3355, 3362, 3363, 3364, 3368, 3376, 3387, 3389, 3393, 3400, 3401, 3405, 3412, 3430]}\n",
      "Wall time: 34.2 s\n"
     ]
    }
   ],
   "source": [
    "%%time\n",
    "inertia=[]\n",
    "for Num_of_clusters in range(1):\n",
    "    ### TO initialize the centroids\n",
    "    sum_of_jaccard_for_wordID={}\n",
    "    for i in jaccard_matrix:\n",
    "        sum_of_jaccard_for_wordID[i]=sum(jaccard_matrix[i].values())\n",
    "    ### Taking highest 10 sums\n",
    "    max_10_sum=sorted(list(sum_of_jaccard_for_wordID.values()),reverse=True)[:3] ## Taking 3 cluster here\n",
    "    initial_centroid=[]\n",
    "    for j in jaccard_matrix:\n",
    "        if sum_of_jaccard_for_wordID[j] in max_10_sum:\n",
    "            initial_centroid.append(j)\n",
    "    \n",
    "    cluster=cluster_func(initial_centroid)\n",
    "    prev_centroids=initial_centroid\n",
    "    new_centroids=[]\n",
    "    ### Now we will update our centroids\n",
    "    for itr in range(10):\n",
    "        if prev_centroids==new_centroids:  ## If the centroids are not changing then we will get the optimized clusters.\n",
    "            break\n",
    "        prev_centroids=new_centroids\n",
    "        prev_cluster=list(cluster.keys())\n",
    "        new_centroids=[]\n",
    "        for i in prev_cluster:\n",
    "            cluster_element=cluster[i]\n",
    "            total=[0]*(len(df)+1)\n",
    "            for j in cluster_element:\n",
    "                total += dic[j]       ### Adding up all list of a cluster\n",
    "            avg = [x / len(cluster_element) for x in total]  ## Now we will get some fractional value\n",
    "            for k in range(len(avg)):   ### Converting it only in 0 or 1\n",
    "                if avg[k]>=0.05:\n",
    "                    avg[k]=1\n",
    "                else:\n",
    "                    avg[k]=0\n",
    "            elements=[]           ### Storing the wordID for that centroid of the cluster\n",
    "            for l in range(len(avg)):\n",
    "                if avg[l]==1:\n",
    "                    elements.append(l)\n",
    "    ### Now we will check which docID has best similarity with the calculated centroid.\n",
    "    ### Best similarity docID wil be our new centroid\n",
    "            min_index=np.inf\n",
    "            #center=-1\n",
    "            for m in cluster_element:\n",
    "                jac=jaccard_distance(D[m],elements)\n",
    "                if jac<min_index:\n",
    "                    min_index=jac\n",
    "                    center=m\n",
    "            new_centroids.append(center)\n",
    "        cluster=cluster_func(new_centroids)\n",
    "        #print(cluster[new_centroids[0]])\n",
    "    print(new_centroids)\n",
    "    print(cluster)\n",
    "   ### Calculating inertia\n",
    "    s=0\n",
    "    for i in new_centroids:\n",
    "        for j in cluster[i]:\n",
    "            s+= jaccard_matrix[i][j]**2\n",
    "    s=s/len(new_centroids) \n",
    "    inertia.append(s)"
   ]
  },
  {
   "cell_type": "code",
   "execution_count": null,
   "metadata": {},
   "outputs": [],
   "source": []
  }
 ],
 "metadata": {
  "kernelspec": {
   "display_name": "Python 3",
   "language": "python",
   "name": "python3"
  },
  "language_info": {
   "codemirror_mode": {
    "name": "ipython",
    "version": 3
   },
   "file_extension": ".py",
   "mimetype": "text/x-python",
   "name": "python",
   "nbconvert_exporter": "python",
   "pygments_lexer": "ipython3",
   "version": "3.7.6"
  }
 },
 "nbformat": 4,
 "nbformat_minor": 4
}
